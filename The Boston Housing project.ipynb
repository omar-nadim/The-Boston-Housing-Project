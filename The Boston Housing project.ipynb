{
 "cells": [
  {
   "cell_type": "markdown",
   "metadata": {},
   "source": [
    "# The Boston Housing Data Project"
   ]
  },
  {
   "cell_type": "markdown",
   "metadata": {},
   "source": [
    "In this notebook I will work on the Boston Housing Dataset project, It's a famous regression project. The goal is to predict the price of the house base on the following features:\n",
    "\n",
    "#### CRIM: Per capita crime rate by town\n",
    "\n",
    "#### ZN: Proportion of residential land zoned for lots over 25,000 sq. ft\n",
    "\n",
    "#### INDUS: Proportion of non-retail business acres per town\n",
    "\n",
    "#### CHAS: Charles River dummy variable (= 1 if tract bounds river; 0 otherwise)\n",
    "\n",
    "#### NOX: Nitric oxide concentration (parts per 10 million)\n",
    "\n",
    "#### RM: Average number of rooms per dwelling\n",
    "\n",
    "#### AGE: Proportion of owner-occupied units built prior to 1940\n",
    "\n",
    "#### DIS: Weighted distances to five Boston employment centers\n",
    "\n",
    "#### RAD: Index of accessibility to radial highways\n",
    "\n",
    "#### TAX: Full-value property tax rate per $10,000\n",
    "\n",
    "#### PTRATIO: Pupil-teacher ratio by town\n",
    "\n",
    "#### B: 1000(Bk — 0.63)², where Bk is the proportion of [people of African American descent] by town\n",
    "\n",
    "#### LSTAT: Percentage of lower status of the population\n",
    "\n",
    "The Output is:\n",
    "\n",
    "#### MEDV: Median value of owner-occupied homes in $1000s"
   ]
  },
  {
   "cell_type": "code",
   "execution_count": 1,
   "metadata": {},
   "outputs": [],
   "source": [
    "filename = 'housing.csv'\n",
    "names = ['CRIM', 'ZN', 'INDUS', 'CHAS', 'NOX', 'RM', 'AGE', 'DIS', 'RAD', 'TAX', 'PTRATIO',\n",
    "'B', 'LSTAT', 'MEDV']"
   ]
  },
  {
   "cell_type": "code",
   "execution_count": 7,
   "metadata": {},
   "outputs": [],
   "source": [
    "from pandas import read_csv, set_option\n",
    "dataframe = read_csv(filename, names = names)"
   ]
  },
  {
   "cell_type": "markdown",
   "metadata": {},
   "source": [
    "Let's look at the data first to try to understand it better."
   ]
  },
  {
   "cell_type": "code",
   "execution_count": 8,
   "metadata": {},
   "outputs": [],
   "source": [
    "peek = dataframe.head(20)\n",
    "shape = dataframe.shape\n",
    "types = dataframe.dtypes"
   ]
  },
  {
   "cell_type": "code",
   "execution_count": 9,
   "metadata": {},
   "outputs": [
    {
     "name": "stdout",
     "output_type": "stream",
     "text": [
      "       CRIM    ZN  INDUS  CHAS    NOX     RM    AGE     DIS  RAD  TAX  \\\n",
      "0   0.00632  18.0   2.31     0  0.538  6.575   65.2  4.0900    1  296   \n",
      "1   0.02731   0.0   7.07     0  0.469  6.421   78.9  4.9671    2  242   \n",
      "2   0.02729   0.0   7.07     0  0.469  7.185   61.1  4.9671    2  242   \n",
      "3   0.03237   0.0   2.18     0  0.458  6.998   45.8  6.0622    3  222   \n",
      "4   0.06905   0.0   2.18     0  0.458  7.147   54.2  6.0622    3  222   \n",
      "5   0.02985   0.0   2.18     0  0.458  6.430   58.7  6.0622    3  222   \n",
      "6   0.08829  12.5   7.87     0  0.524  6.012   66.6  5.5605    5  311   \n",
      "7   0.14455  12.5   7.87     0  0.524  6.172   96.1  5.9505    5  311   \n",
      "8   0.21124  12.5   7.87     0  0.524  5.631  100.0  6.0821    5  311   \n",
      "9   0.17004  12.5   7.87     0  0.524  6.004   85.9  6.5921    5  311   \n",
      "10  0.22489  12.5   7.87     0  0.524  6.377   94.3  6.3467    5  311   \n",
      "11  0.11747  12.5   7.87     0  0.524  6.009   82.9  6.2267    5  311   \n",
      "12  0.09378  12.5   7.87     0  0.524  5.889   39.0  5.4509    5  311   \n",
      "13  0.62976   0.0   8.14     0  0.538  5.949   61.8  4.7075    4  307   \n",
      "14  0.63796   0.0   8.14     0  0.538  6.096   84.5  4.4619    4  307   \n",
      "15  0.62739   0.0   8.14     0  0.538  5.834   56.5  4.4986    4  307   \n",
      "16  1.05393   0.0   8.14     0  0.538  5.935   29.3  4.4986    4  307   \n",
      "17  0.78420   0.0   8.14     0  0.538  5.990   81.7  4.2579    4  307   \n",
      "18  0.80271   0.0   8.14     0  0.538  5.456   36.6  3.7965    4  307   \n",
      "19  0.72580   0.0   8.14     0  0.538  5.727   69.5  3.7965    4  307   \n",
      "\n",
      "    PTRATIO       B  LSTAT  MEDV  \n",
      "0      15.3  396.90   4.98  24.0  \n",
      "1      17.8  396.90   9.14  21.6  \n",
      "2      17.8  392.83   4.03  34.7  \n",
      "3      18.7  394.63   2.94  33.4  \n",
      "4      18.7  396.90   5.33  36.2  \n",
      "5      18.7  394.12   5.21  28.7  \n",
      "6      15.2  395.60  12.43  22.9  \n",
      "7      15.2  396.90  19.15  27.1  \n",
      "8      15.2  386.63  29.93  16.5  \n",
      "9      15.2  386.71  17.10  18.9  \n",
      "10     15.2  392.52  20.45  15.0  \n",
      "11     15.2  396.90  13.27  18.9  \n",
      "12     15.2  390.50  15.71  21.7  \n",
      "13     21.0  396.90   8.26  20.4  \n",
      "14     21.0  380.02  10.26  18.2  \n",
      "15     21.0  395.62   8.47  19.9  \n",
      "16     21.0  386.85   6.58  23.1  \n",
      "17     21.0  386.75  14.67  17.5  \n",
      "18     21.0  288.99  11.69  20.2  \n",
      "19     21.0  390.95  11.28  18.2  \n"
     ]
    }
   ],
   "source": [
    "print(peek)"
   ]
  },
  {
   "cell_type": "code",
   "execution_count": 10,
   "metadata": {},
   "outputs": [
    {
     "name": "stdout",
     "output_type": "stream",
     "text": [
      "(506, 14)\n"
     ]
    }
   ],
   "source": [
    "print(shape)"
   ]
  },
  {
   "cell_type": "code",
   "execution_count": 11,
   "metadata": {
    "scrolled": true
   },
   "outputs": [
    {
     "name": "stdout",
     "output_type": "stream",
     "text": [
      "CRIM       float64\n",
      "ZN         float64\n",
      "INDUS      float64\n",
      "CHAS         int64\n",
      "NOX        float64\n",
      "RM         float64\n",
      "AGE        float64\n",
      "DIS        float64\n",
      "RAD          int64\n",
      "TAX          int64\n",
      "PTRATIO    float64\n",
      "B          float64\n",
      "LSTAT      float64\n",
      "MEDV       float64\n",
      "dtype: object\n"
     ]
    }
   ],
   "source": [
    "print(types)"
   ]
  },
  {
   "cell_type": "markdown",
   "metadata": {},
   "source": [
    "Let's perform some descriptive statistics"
   ]
  },
  {
   "cell_type": "code",
   "execution_count": 13,
   "metadata": {},
   "outputs": [
    {
     "name": "stdout",
     "output_type": "stream",
     "text": [
      "          CRIM       ZN    INDUS     CHAS      NOX       RM      AGE      DIS      RAD      TAX  \\\n",
      "count  506.000  506.000  506.000  506.000  506.000  506.000  506.000  506.000  506.000  506.000   \n",
      "mean     3.614   11.364   11.137    0.069    0.555    6.285   68.575    3.795    9.549  408.237   \n",
      "std      8.602   23.322    6.860    0.254    0.116    0.703   28.149    2.106    8.707  168.537   \n",
      "min      0.006    0.000    0.460    0.000    0.385    3.561    2.900    1.130    1.000  187.000   \n",
      "25%      0.082    0.000    5.190    0.000    0.449    5.886   45.025    2.100    4.000  279.000   \n",
      "50%      0.257    0.000    9.690    0.000    0.538    6.208   77.500    3.207    5.000  330.000   \n",
      "75%      3.677   12.500   18.100    0.000    0.624    6.623   94.075    5.188   24.000  666.000   \n",
      "max     88.976  100.000   27.740    1.000    0.871    8.780  100.000   12.127   24.000  711.000   \n",
      "\n",
      "       PTRATIO        B    LSTAT     MEDV  \n",
      "count  506.000  506.000  506.000  506.000  \n",
      "mean    18.456  356.674   12.653   22.533  \n",
      "std      2.165   91.295    7.141    9.197  \n",
      "min     12.600    0.320    1.730    5.000  \n",
      "25%     17.400  375.377    6.950   17.025  \n",
      "50%     19.050  391.440   11.360   21.200  \n",
      "75%     20.200  396.225   16.955   25.000  \n",
      "max     22.000  396.900   37.970   50.000  \n"
     ]
    }
   ],
   "source": [
    "set_option('display.width',100)\n",
    "set_option('precision',3)\n",
    "description = dataframe.describe()\n",
    "print(description)\n"
   ]
  },
  {
   "cell_type": "markdown",
   "metadata": {},
   "source": [
    "There are some noticable differences in means and standard deviations, we might need to perform some feature engineering to standardize the features, we will see how the algorithms perform."
   ]
  },
  {
   "cell_type": "markdown",
   "metadata": {},
   "source": [
    "Let's look at the correlations between the features to see if there is any corelation between two specific features. The purpose is to spot any dependences."
   ]
  },
  {
   "cell_type": "code",
   "execution_count": 14,
   "metadata": {
    "scrolled": true
   },
   "outputs": [
    {
     "name": "stdout",
     "output_type": "stream",
     "text": [
      "          CRIM     ZN  INDUS   CHAS    NOX     RM    AGE    DIS    RAD    TAX  PTRATIO      B  \\\n",
      "CRIM     1.000 -0.200  0.407 -0.056  0.421 -0.219  0.353 -0.380  0.626  0.583    0.290 -0.385   \n",
      "ZN      -0.200  1.000 -0.534 -0.043 -0.517  0.312 -0.570  0.664 -0.312 -0.315   -0.392  0.176   \n",
      "INDUS    0.407 -0.534  1.000  0.063  0.764 -0.392  0.645 -0.708  0.595  0.721    0.383 -0.357   \n",
      "CHAS    -0.056 -0.043  0.063  1.000  0.091  0.091  0.087 -0.099 -0.007 -0.036   -0.122  0.049   \n",
      "NOX      0.421 -0.517  0.764  0.091  1.000 -0.302  0.731 -0.769  0.611  0.668    0.189 -0.380   \n",
      "RM      -0.219  0.312 -0.392  0.091 -0.302  1.000 -0.240  0.205 -0.210 -0.292   -0.356  0.128   \n",
      "AGE      0.353 -0.570  0.645  0.087  0.731 -0.240  1.000 -0.748  0.456  0.506    0.262 -0.274   \n",
      "DIS     -0.380  0.664 -0.708 -0.099 -0.769  0.205 -0.748  1.000 -0.495 -0.534   -0.232  0.292   \n",
      "RAD      0.626 -0.312  0.595 -0.007  0.611 -0.210  0.456 -0.495  1.000  0.910    0.465 -0.444   \n",
      "TAX      0.583 -0.315  0.721 -0.036  0.668 -0.292  0.506 -0.534  0.910  1.000    0.461 -0.442   \n",
      "PTRATIO  0.290 -0.392  0.383 -0.122  0.189 -0.356  0.262 -0.232  0.465  0.461    1.000 -0.177   \n",
      "B       -0.385  0.176 -0.357  0.049 -0.380  0.128 -0.274  0.292 -0.444 -0.442   -0.177  1.000   \n",
      "LSTAT    0.456 -0.413  0.604 -0.054  0.591 -0.614  0.602 -0.497  0.489  0.544    0.374 -0.366   \n",
      "MEDV    -0.388  0.360 -0.484  0.175 -0.427  0.695 -0.377  0.250 -0.382 -0.469   -0.508  0.333   \n",
      "\n",
      "         LSTAT   MEDV  \n",
      "CRIM     0.456 -0.388  \n",
      "ZN      -0.413  0.360  \n",
      "INDUS    0.604 -0.484  \n",
      "CHAS    -0.054  0.175  \n",
      "NOX      0.591 -0.427  \n",
      "RM      -0.614  0.695  \n",
      "AGE      0.602 -0.377  \n",
      "DIS     -0.497  0.250  \n",
      "RAD      0.489 -0.382  \n",
      "TAX      0.544 -0.469  \n",
      "PTRATIO  0.374 -0.508  \n",
      "B       -0.366  0.333  \n",
      "LSTAT    1.000 -0.738  \n",
      "MEDV    -0.738  1.000  \n"
     ]
    }
   ],
   "source": [
    "correlations = dataframe.corr(method='pearson')\n",
    "print(correlations)"
   ]
  },
  {
   "cell_type": "markdown",
   "metadata": {},
   "source": [
    "Let's look at the histogrammes:"
   ]
  },
  {
   "cell_type": "code",
   "execution_count": 17,
   "metadata": {},
   "outputs": [
    {
     "data": {
      "text/plain": [
       "array([[<matplotlib.axes._subplots.AxesSubplot object at 0x000000000B7F92E8>,\n",
       "        <matplotlib.axes._subplots.AxesSubplot object at 0x000000000B8D8320>,\n",
       "        <matplotlib.axes._subplots.AxesSubplot object at 0x000000000B8FC748>,\n",
       "        <matplotlib.axes._subplots.AxesSubplot object at 0x000000000B922CC0>],\n",
       "       [<matplotlib.axes._subplots.AxesSubplot object at 0x000000000B953240>,\n",
       "        <matplotlib.axes._subplots.AxesSubplot object at 0x000000000B979828>,\n",
       "        <matplotlib.axes._subplots.AxesSubplot object at 0x000000000B9A0D68>,\n",
       "        <matplotlib.axes._subplots.AxesSubplot object at 0x000000000B9D2358>],\n",
       "       [<matplotlib.axes._subplots.AxesSubplot object at 0x000000000B9D2390>,\n",
       "        <matplotlib.axes._subplots.AxesSubplot object at 0x000000000BA21E10>,\n",
       "        <matplotlib.axes._subplots.AxesSubplot object at 0x000000000BA523C8>,\n",
       "        <matplotlib.axes._subplots.AxesSubplot object at 0x000000000BA7D940>],\n",
       "       [<matplotlib.axes._subplots.AxesSubplot object at 0x000000000BAA5EB8>,\n",
       "        <matplotlib.axes._subplots.AxesSubplot object at 0x000000000BAD5470>,\n",
       "        <matplotlib.axes._subplots.AxesSubplot object at 0x000000000BAFC9E8>,\n",
       "        <matplotlib.axes._subplots.AxesSubplot object at 0x000000000BB24F60>]],\n",
       "      dtype=object)"
      ]
     },
     "execution_count": 17,
     "metadata": {},
     "output_type": "execute_result"
    },
    {
     "data": {
      "image/png": "[encoded data removed]",
      "text/plain": [
       "<Figure size 432x288 with 16 Axes>"
      ]
     },
     "metadata": {
      "needs_background": "light"
     },
     "output_type": "display_data"
    }
   ],
   "source": [
    "from matplotlib import pyplot\n",
    "\n",
    "#histogrammes\n",
    "dataframe.hist()\n"
   ]
  },
  {
   "cell_type": "code",
   "execution_count": 18,
   "metadata": {},
   "outputs": [
    {
     "data": {
      "image/png": "[encoded data removed]",
      "text/plain": [
       "<Figure size 432x288 with 16 Axes>"
      ]
     },
     "metadata": {
      "needs_background": "light"
     },
     "output_type": "display_data"
    }
   ],
   "source": [
    "# density\n",
    "dataframe.plot(kind='density', subplots=True, layout=(4,4), sharex=False, legend=False,\n",
    "fontsize=1)\n",
    "pyplot.show()"
   ]
  },
  {
   "cell_type": "markdown",
   "metadata": {},
   "source": [
    "## The machine learning part"
   ]
  },
  {
   "cell_type": "markdown",
   "metadata": {},
   "source": [
    "Now that we have an understanding of the data, we are ready to start the machine learning part"
   ]
  },
  {
   "cell_type": "code",
   "execution_count": 19,
   "metadata": {},
   "outputs": [],
   "source": [
    "array = dataframe.values\n",
    "X = array[:,:-1]\n",
    "Y = array[:,-1]"
   ]
  },
  {
   "cell_type": "markdown",
   "metadata": {},
   "source": [
    "Let's split the data into training set and validation set"
   ]
  },
  {
   "cell_type": "code",
   "execution_count": 21,
   "metadata": {},
   "outputs": [],
   "source": [
    "from sklearn.model_selection import train_test_split\n",
    "\n",
    "validation_size = 0.2\n",
    "seed= 7\n",
    "X_train, X_validation, Y_train, Y_validation = train_test_split(X,Y,test_size=validation_size,random_state=seed)"
   ]
  },
  {
   "cell_type": "markdown",
   "metadata": {},
   "source": [
    "Let's import the libraries containing the regression algorithms we are going to try"
   ]
  },
  {
   "cell_type": "code",
   "execution_count": 22,
   "metadata": {},
   "outputs": [],
   "source": [
    "from sklearn.linear_model import LinearRegression\n",
    "from sklearn.linear_model import Lasso\n",
    "from sklearn.linear_model import ElasticNet\n",
    "from sklearn.tree import DecisionTreeRegressor\n",
    "from sklearn.neighbors import KNeighborsRegressor\n",
    "from sklearn.svm import SVR"
   ]
  },
  {
   "cell_type": "markdown",
   "metadata": {},
   "source": [
    "We define the list of algorithms to try:"
   ]
  },
  {
   "cell_type": "code",
   "execution_count": 29,
   "metadata": {},
   "outputs": [],
   "source": [
    "models = []\n",
    "models.append(('LR', LinearRegression()))\n",
    "models.append(('LASSO', Lasso()))\n",
    "models.append(('EN', ElasticNet()))\n",
    "models.append(('KNN', KNeighborsRegressor()))\n",
    "models.append(('CART', DecisionTreeRegressor()))\n",
    "models.append(('SVR', SVR(gamma = 'auto')))"
   ]
  },
  {
   "cell_type": "markdown",
   "metadata": {},
   "source": [
    "And then we evaluate every model using cross validation score with 10 folds"
   ]
  },
  {
   "cell_type": "code",
   "execution_count": 30,
   "metadata": {},
   "outputs": [],
   "source": [
    "from sklearn.model_selection import KFold\n",
    "from sklearn.model_selection import cross_val_score\n",
    "\n",
    "num_folds = 10\n",
    "seed = 7\n",
    "scoring = 'neg_mean_squared_error'"
   ]
  },
  {
   "cell_type": "code",
   "execution_count": 31,
   "metadata": {},
   "outputs": [
    {
     "name": "stdout",
     "output_type": "stream",
     "text": [
      "LR: -21.379855726678684 9.414263656984737\n",
      "LASSO: -26.423561108409654 11.651109915777916\n",
      "EN: -27.50225935066171 12.305022264112704\n",
      "KNN: -41.89648839024391 13.901688149849864\n",
      "CART: -28.935953048780487 14.668945736956521\n",
      "SVR: -85.51834183929131 31.99479823184288\n"
     ]
    }
   ],
   "source": [
    "results = []\n",
    "names = []\n",
    "for name, model in models:\n",
    "    kfold = KFold(n_splits=num_folds, random_state=seed)\n",
    "    cv_results = cross_val_score(model, X_train, Y_train, cv=kfold, scoring=scoring)\n",
    "    results.append(cv_results)\n",
    "    names.append(name)\n",
    "    print(f'{name}: {cv_results.mean()} {cv_results.std()}')"
   ]
  },
  {
   "cell_type": "markdown",
   "metadata": {},
   "source": [
    "With the negative mean squared error, the larger the better. In this we can see that the logistic regression performs the best, but the SVR algorithm performs surprisingly bad, I will try the apply standard scaling to the features to improve the performance. \n",
    "\n",
    "In order to do that we will use pipelines and use the standard scaler."
   ]
  },
  {
   "cell_type": "code",
   "execution_count": 34,
   "metadata": {},
   "outputs": [],
   "source": [
    "from sklearn.pipeline import Pipeline\n",
    "from sklearn.preprocessing import StandardScaler"
   ]
  },
  {
   "cell_type": "code",
   "execution_count": 35,
   "metadata": {},
   "outputs": [
    {
     "name": "stdout",
     "output_type": "stream",
     "text": [
      "ScaledLR: -21.379855726678564 9.414263656984705\n",
      "ScaledLASSO: -26.607313557676616 8.978761485890264\n",
      "ScaledEN: -27.932372158135518 10.587490490139404\n",
      "ScaledKNN: -20.107620487804876 12.376949150820472\n",
      "ScaledCART: -24.393234146341463 12.048647863842886\n",
      "ScaledSVR: -29.633085500303213 17.009186052351556\n"
     ]
    }
   ],
   "source": [
    "# Standardize the dataset\n",
    "pipelines = []\n",
    "pipelines.append(('ScaledLR', Pipeline([('Scaler', StandardScaler()),('LR',\n",
    "LinearRegression())])))\n",
    "pipelines.append(('ScaledLASSO', Pipeline([('Scaler', StandardScaler()),('LASSO',\n",
    "Lasso())])))\n",
    "pipelines.append(('ScaledEN', Pipeline([('Scaler', StandardScaler()),('EN',\n",
    "ElasticNet())])))\n",
    "pipelines.append(('ScaledKNN', Pipeline([('Scaler', StandardScaler()),('KNN',\n",
    "KNeighborsRegressor())])))\n",
    "pipelines.append(('ScaledCART', Pipeline([('Scaler', StandardScaler()),('CART',\n",
    "DecisionTreeRegressor())])))\n",
    "pipelines.append(('ScaledSVR', Pipeline([('Scaler', StandardScaler()),('SVR', SVR())])))\n",
    "results = []\n",
    "names = []\n",
    "for name, model in pipelines:\n",
    "    kfold = KFold(n_splits=num_folds, random_state=seed)\n",
    "    cv_results = cross_val_score(model, X_train, Y_train, cv=kfold, scoring=scoring)\n",
    "    results.append(cv_results)\n",
    "    names.append(name)\n",
    "    print(f'{name}: {cv_results.mean()} {cv_results.std()}')"
   ]
  },
  {
   "cell_type": "markdown",
   "metadata": {},
   "source": [
    "Now we can see that the K- neighbors regression algorithm performs best."
   ]
  },
  {
   "cell_type": "markdown",
   "metadata": {},
   "source": [
    "Now that we know wich algorithm performs best, let's do some tuning to increase the performance. The parameter we will tune is the K-value.\n",
    "\n",
    "We will use the Grid search method to go over different K-values a measure the performance for each K-value"
   ]
  },
  {
   "cell_type": "code",
   "execution_count": 39,
   "metadata": {},
   "outputs": [],
   "source": [
    "from sklearn.model_selection import GridSearchCV\n",
    "import numpy"
   ]
  },
  {
   "cell_type": "code",
   "execution_count": 41,
   "metadata": {},
   "outputs": [
    {
     "name": "stdout",
     "output_type": "stream",
     "text": [
      "Best: -18.172136963696367 using {'n_neighbors': 3}\n",
      "-20.208663366336634 (15.029651571426534) with: {'n_neighbors': 1}\n",
      "-18.172136963696367 (12.950569939457809) with: {'n_neighbors': 3}\n",
      "-20.131163366336633 (12.203696929311104) with: {'n_neighbors': 5}\n",
      "-20.575845120226305 (12.345886317622917) with: {'n_neighbors': 7}\n",
      "-20.368263659699302 (11.621737918716054) with: {'n_neighbors': 9}\n",
      "-21.009204238605676 (11.610012219014179) with: {'n_neighbors': 11}\n",
      "-21.15180854180092 (11.943317892509251) with: {'n_neighbors': 13}\n",
      "-21.557399669966998 (11.536338523667055) with: {'n_neighbors': 15}\n",
      "-22.789938161636233 (11.56686063504654) with: {'n_neighbors': 17}\n",
      "-23.871872960149197 (11.340388662548046) with: {'n_neighbors': 19}\n",
      "-24.361362115803416 (11.9147857079963) with: {'n_neighbors': 21}\n"
     ]
    }
   ],
   "source": [
    "# KNN Algorithm tuning\n",
    "scaler = StandardScaler().fit(X_train)\n",
    "rescaledX = scaler.transform(X_train)\n",
    "k_values = numpy.array([1,3,5,7,9,11,13,15,17,19,21])\n",
    "param_grid = dict(n_neighbors=k_values)\n",
    "model = KNeighborsRegressor()\n",
    "kfold = KFold(n_splits=num_folds, random_state=seed)\n",
    "grid = GridSearchCV(estimator=model, param_grid=param_grid, scoring=scoring, cv=kfold, iid=True)\n",
    "grid_result = grid.fit(rescaledX, Y_train)\n",
    "print(f\"Best: {grid_result.best_score_} using {grid_result.best_params_}\")\n",
    "means = grid_result.cv_results_['mean_test_score']\n",
    "stds = grid_result.cv_results_['std_test_score']\n",
    "params = grid_result.cv_results_['params']\n",
    "for mean, stdev, param in zip(means, stds, params):\n",
    "    print(f\"{mean} ({stdev}) with: {param}\")"
   ]
  },
  {
   "cell_type": "markdown",
   "metadata": {},
   "source": [
    "K = 3 is the value for the best performace"
   ]
  },
  {
   "cell_type": "markdown",
   "metadata": {},
   "source": [
    "Before we draw any conclusions, let's try ensemble algorithm just to make sure that no other algorithm performs better the the K-neighbors algorithm with K=3"
   ]
  },
  {
   "cell_type": "code",
   "execution_count": 42,
   "metadata": {},
   "outputs": [],
   "source": [
    "from sklearn.ensemble import RandomForestRegressor\n",
    "from sklearn.ensemble import GradientBoostingRegressor\n",
    "from sklearn.ensemble import ExtraTreesRegressor\n",
    "from sklearn.ensemble import AdaBoostRegressor"
   ]
  },
  {
   "cell_type": "code",
   "execution_count": 45,
   "metadata": {},
   "outputs": [
    {
     "name": "stdout",
     "output_type": "stream",
     "text": [
      "ScaledAB: -15.458624869451217 6.978344360431121\n",
      "ScaledGBM: -9.938433501047902 4.400328248950901\n",
      "ScaledRF: -11.917091302804879 6.312043168978922\n",
      "ScaledET: -9.535373292012187 5.44613925119493\n"
     ]
    }
   ],
   "source": [
    "# ensembles\n",
    "ensembles = []\n",
    "ensembles.append(('ScaledAB', Pipeline([('Scaler', StandardScaler()),('AB',\n",
    "AdaBoostRegressor())])))\n",
    "ensembles.append(('ScaledGBM', Pipeline([('Scaler', StandardScaler()),('GBM',\n",
    "GradientBoostingRegressor())])))\n",
    "ensembles.append(('ScaledRF', Pipeline([('Scaler', StandardScaler()),('RF',\n",
    "RandomForestRegressor(n_estimators = 100))])))\n",
    "ensembles.append(('ScaledET', Pipeline([('Scaler', StandardScaler()),('ET',\n",
    "ExtraTreesRegressor(n_estimators = 100))])))\n",
    "results = []\n",
    "names = []\n",
    "for name, model in ensembles:\n",
    "    kfold = KFold(n_splits=num_folds, random_state=seed)\n",
    "    cv_results = cross_val_score(model, X_train, Y_train, cv=kfold, scoring=scoring)\n",
    "    results.append(cv_results)\n",
    "    names.append(name)\n",
    "    print(f'{name}: {cv_results.mean()} {cv_results.std()}')"
   ]
  },
  {
   "cell_type": "code",
   "execution_count": 46,
   "metadata": {},
   "outputs": [
    {
     "data": {
      "image/png": "[encoded data removed]",
      "text/plain": [
       "<Figure size 432x288 with 1 Axes>"
      ]
     },
     "metadata": {
      "needs_background": "light"
     },
     "output_type": "display_data"
    }
   ],
   "source": [
    "# Compare Algorithms\n",
    "fig = pyplot.figure()\n",
    "fig.suptitle('Scaled Ensemble Algorithm Comparison')\n",
    "ax = fig.add_subplot(111)\n",
    "pyplot.boxplot(results)\n",
    "ax.set_xticklabels(names)\n",
    "pyplot.show()"
   ]
  },
  {
   "cell_type": "markdown",
   "metadata": {},
   "source": [
    "As we can see, the extra trees regressor performs the best"
   ]
  },
  {
   "cell_type": "markdown",
   "metadata": {},
   "source": [
    "Let's tune the extra tree regressor by trying different n_estimators"
   ]
  },
  {
   "cell_type": "code",
   "execution_count": 49,
   "metadata": {
    "scrolled": true
   },
   "outputs": [
    {
     "name": "stdout",
     "output_type": "stream",
     "text": [
      "Best: -8.885761 using {'n_estimators': 200}\n",
      "-9.879671504950496 (5.6380102048001755) with: {'n_estimators': 50}\n",
      "-9.236996381188112 (5.371409229573578) with: {'n_estimators': 100}\n",
      "-8.938405297029696 (5.250832865235314) with: {'n_estimators': 150}\n",
      "-8.88576059467822 (5.2328474309285795) with: {'n_estimators': 200}\n",
      "-8.933976915643571 (5.227713849313458) with: {'n_estimators': 250}\n",
      "-8.945263369912004 (5.218185535092529) with: {'n_estimators': 300}\n",
      "-8.969455065871916 (5.223057678421461) with: {'n_estimators': 350}\n",
      "-9.001128872524781 (5.263189066471635) with: {'n_estimators': 400}\n"
     ]
    }
   ],
   "source": [
    "# Tune scaled ET\n",
    "scaler = StandardScaler().fit(X_train)\n",
    "rescaledX = scaler.transform(X_train)\n",
    "param_grid = dict(n_estimators=numpy.array([50,100,150,200,250,300,350,400]))\n",
    "model = ExtraTreesRegressor(random_state=seed)\n",
    "kfold = KFold(n_splits=num_folds, random_state=seed)\n",
    "grid = GridSearchCV(estimator=model, param_grid=param_grid, scoring=scoring, cv=kfold, iid=True)\n",
    "grid_result = grid.fit(rescaledX, Y_train)\n",
    "print(\"Best: %f using %s\" % (grid_result.best_score_, grid_result.best_params_))\n",
    "means = grid_result.cv_results_['mean_test_score']\n",
    "stds = grid_result.cv_results_['std_test_score']\n",
    "params = grid_result.cv_results_['params']\n",
    "for mean, stdev, param in zip(means, stds, params):\n",
    "    print(f\"{mean} ({stdev}) with: {param}\")"
   ]
  },
  {
   "cell_type": "markdown",
   "metadata": {},
   "source": [
    "n_estimators = 200 is the best value for the Extra Trees regressor\n",
    "\n",
    "Let's try to tune the Gradient Boosting Regressor"
   ]
  },
  {
   "cell_type": "code",
   "execution_count": 50,
   "metadata": {},
   "outputs": [
    {
     "name": "stdout",
     "output_type": "stream",
     "text": [
      "Best: -9.353870 using {'n_estimators': 400}\n",
      "-10.812166656847484 (4.724393636557874) with: {'n_estimators': 50}\n",
      "-10.040856533581554 (4.441757611922483) with: {'n_estimators': 100}\n",
      "-9.694044578095989 (4.275652713871717) with: {'n_estimators': 150}\n",
      "-9.539480800040016 (4.270152744263775) with: {'n_estimators': 200}\n",
      "-9.449041675378322 (4.261930249819678) with: {'n_estimators': 250}\n",
      "-9.426909455124738 (4.271398576035022) with: {'n_estimators': 300}\n",
      "-9.366779386673732 (4.251668915728572) with: {'n_estimators': 350}\n",
      "-9.3538696600702 (4.26581630222825) with: {'n_estimators': 400}\n"
     ]
    }
   ],
   "source": [
    "# Tune scaled GBM\n",
    "scaler = StandardScaler().fit(X_train)\n",
    "rescaledX = scaler.transform(X_train)\n",
    "param_grid = dict(n_estimators=numpy.array([50,100,150,200,250,300,350,400]))\n",
    "model = GradientBoostingRegressor(random_state=seed)\n",
    "kfold = KFold(n_splits=num_folds, random_state=seed)\n",
    "grid = GridSearchCV(estimator=model, param_grid=param_grid, scoring=scoring, cv=kfold, iid = True)\n",
    "grid_result = grid.fit(rescaledX, Y_train)\n",
    "print(\"Best: %f using %s\" % (grid_result.best_score_, grid_result.best_params_))\n",
    "means = grid_result.cv_results_['mean_test_score']\n",
    "stds = grid_result.cv_results_['std_test_score']\n",
    "params = grid_result.cv_results_['params']\n",
    "for mean, stdev, param in zip(means, stds, params):\n",
    "    print(f\"{mean} ({stdev}) with: {param}\")"
   ]
  },
  {
   "cell_type": "markdown",
   "metadata": {},
   "source": [
    "The Extra Trees regressor is still the best, and that what we are using for the predictions"
   ]
  },
  {
   "cell_type": "markdown",
   "metadata": {},
   "source": [
    "## Time for predictions"
   ]
  },
  {
   "cell_type": "code",
   "execution_count": 52,
   "metadata": {},
   "outputs": [
    {
     "name": "stdout",
     "output_type": "stream",
     "text": [
      "13.81404784803921\n"
     ]
    }
   ],
   "source": [
    "from sklearn.metrics import mean_squared_error\n",
    "\n",
    "# prepare the model\n",
    "scaler = StandardScaler().fit(X_train)\n",
    "rescaledX = scaler.transform(X_train)\n",
    "model = ExtraTreesRegressor(random_state=seed, n_estimators=200)\n",
    "model.fit(rescaledX, Y_train)\n",
    "\n",
    "# transform the validation dataset\n",
    "rescaledValidationX = scaler.transform(X_validation)\n",
    "predictions = model.predict(rescaledValidationX)\n",
    "print(mean_squared_error(Y_validation, predictions))"
   ]
  },
  {
   "cell_type": "code",
   "execution_count": null,
   "metadata": {},
   "outputs": [],
   "source": []
  }
 ],
 "metadata": {
  "kernelspec": {
   "display_name": "Python 3",
   "language": "python",
   "name": "python3"
  },
  "language_info": {
   "codemirror_mode": {
    "name": "ipython",
    "version": 3
   },
   "file_extension": ".py",
   "mimetype": "text/x-python",
   "name": "python",
   "nbconvert_exporter": "python",
   "pygments_lexer": "ipython3",
   "version": "3.7.0"
  }
 },
 "nbformat": 4,
 "nbformat_minor": 2
}
